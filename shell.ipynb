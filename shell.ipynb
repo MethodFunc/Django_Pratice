{
 "cells": [
  {
   "cell_type": "code",
   "execution_count": 1,
   "id": "e80c0ec0bcb22a56",
   "metadata": {
    "ExecuteTime": {
     "end_time": "2023-10-30T02:00:55.708454Z",
     "start_time": "2023-10-30T02:00:55.681751Z"
    },
    "collapsed": true,
    "jupyter": {
     "outputs_hidden": true
    }
   },
   "outputs": [],
   "source": [
    "import os\n",
    "import django\n",
    "import time"
   ]
  },
  {
   "cell_type": "code",
   "execution_count": 2,
   "id": "initial_id",
   "metadata": {
    "ExecuteTime": {
     "end_time": "2023-10-30T02:00:55.900925Z",
     "start_time": "2023-10-30T02:00:55.686062Z"
    },
    "collapsed": false,
    "jupyter": {
     "outputs_hidden": false
    }
   },
   "outputs": [],
   "source": [
    "os.environ[\"DJANGO_SETTINGS_MODULE\"] = 'learn_1.settings'\n",
    "os.environ[\"DJANGO_ALLOW_ASYNC_UNSAFE\"] = 'true'\n",
    "django.setup()"
   ]
  },
  {
   "cell_type": "code",
   "execution_count": 3,
   "id": "edf67fde09e56ea",
   "metadata": {
    "ExecuteTime": {
     "end_time": "2023-10-30T02:01:07.120808Z",
     "start_time": "2023-10-30T02:01:07.072858Z"
    },
    "collapsed": false,
    "jupyter": {
     "outputs_hidden": false
    }
   },
   "outputs": [],
   "source": [
    "from instagram.models import Post"
   ]
  },
  {
   "cell_type": "code",
   "execution_count": 4,
   "id": "e974b2ee1bcbd21",
   "metadata": {
    "ExecuteTime": {
     "end_time": "2023-10-25T06:22:50.187338Z",
     "start_time": "2023-10-25T06:22:50.179851Z"
    },
    "collapsed": false,
    "jupyter": {
     "outputs_hidden": false
    }
   },
   "outputs": [
    {
     "name": "stdout",
     "output_type": "stream",
     "text": [
      "SELECT \"instagram_post\".\"id\", \"instagram_post\".\"author_id\", \"instagram_post\".\"message\", \"instagram_post\".\"photo\", \"instagram_post\".\"is_public\", \"instagram_post\".\"create_at\", \"instagram_post\".\"update_at\" FROM \"instagram_post\" ORDER BY \"instagram_post\".\"id\" DESC\n"
     ]
    }
   ],
   "source": [
    "qs = Post.objects.all()\n",
    "print(qs.query)"
   ]
  },
  {
   "cell_type": "code",
   "execution_count": 5,
   "id": "1ff579a216320d73",
   "metadata": {
    "ExecuteTime": {
     "end_time": "2023-10-25T06:22:50.603181Z",
     "start_time": "2023-10-25T06:22:50.578665Z"
    },
    "collapsed": false,
    "jupyter": {
     "outputs_hidden": false
    }
   },
   "outputs": [
    {
     "data": {
      "text/plain": [
       "<QuerySet [<Post: four>, <Post: three>, <Post: two>, <Post: one>]>"
      ]
     },
     "execution_count": 5,
     "metadata": {},
     "output_type": "execute_result"
    }
   ],
   "source": [
    "qs"
   ]
  },
  {
   "cell_type": "code",
   "execution_count": 6,
   "id": "3c47cdf213620ddb",
   "metadata": {
    "ExecuteTime": {
     "end_time": "2023-10-25T06:22:50.939599Z",
     "start_time": "2023-10-25T06:22:50.926332Z"
    },
    "collapsed": false,
    "jupyter": {
     "outputs_hidden": false
    }
   },
   "outputs": [],
   "source": [
    "qs = Post.objects.all().order_by('-id')"
   ]
  },
  {
   "cell_type": "code",
   "execution_count": 7,
   "id": "f8d9369aae72160",
   "metadata": {
    "ExecuteTime": {
     "end_time": "2023-10-25T06:22:51.305279Z",
     "start_time": "2023-10-25T06:22:51.278846Z"
    },
    "collapsed": false,
    "jupyter": {
     "outputs_hidden": false
    }
   },
   "outputs": [
    {
     "name": "stdout",
     "output_type": "stream",
     "text": [
      "SELECT \"instagram_post\".\"id\", \"instagram_post\".\"author_id\", \"instagram_post\".\"message\", \"instagram_post\".\"photo\", \"instagram_post\".\"is_public\", \"instagram_post\".\"create_at\", \"instagram_post\".\"update_at\" FROM \"instagram_post\" ORDER BY \"instagram_post\".\"id\" DESC\n"
     ]
    }
   ],
   "source": [
    "print(qs.query)"
   ]
  },
  {
   "cell_type": "code",
   "execution_count": 8,
   "id": "4b3791237cb134d4",
   "metadata": {
    "ExecuteTime": {
     "end_time": "2023-10-25T06:22:51.639588Z",
     "start_time": "2023-10-25T06:22:51.627239Z"
    },
    "collapsed": false,
    "jupyter": {
     "outputs_hidden": false
    }
   },
   "outputs": [
    {
     "name": "stdout",
     "output_type": "stream",
     "text": [
      "id:4 create_at: 2023-10-25 00:42:54.794788+00:00\n",
      "id:3 create_at: 2023-10-24 23:19:06.452347+00:00\n",
      "id:2 create_at: 2023-10-24 23:19:03.098189+00:00\n",
      "id:1 create_at: 2023-10-24 23:19:00.863576+00:00\n"
     ]
    }
   ],
   "source": [
    "for post in qs:\n",
    "    # print(post.message, post.create_at)\n",
    "    print(\"id:{id} create_at: {create_at}\".format(**post.__dict__))"
   ]
  },
  {
   "cell_type": "code",
   "execution_count": 9,
   "id": "e703398445e5efc9",
   "metadata": {
    "ExecuteTime": {
     "end_time": "2023-10-25T06:22:52.169203Z",
     "start_time": "2023-10-25T06:22:52.143936Z"
    },
    "collapsed": false,
    "jupyter": {
     "outputs_hidden": false
    }
   },
   "outputs": [
    {
     "data": {
      "text/plain": [
       "{'_state': <django.db.models.base.ModelState at 0x1086d53a0>,\n",
       " 'id': 1,\n",
       " 'author_id': 1,\n",
       " 'message': 'one',\n",
       " 'photo': '',\n",
       " 'is_public': False,\n",
       " 'create_at': datetime.datetime(2023, 10, 24, 23, 19, 0, 863576, tzinfo=datetime.timezone.utc),\n",
       " 'update_at': datetime.datetime(2023, 10, 24, 23, 19, 0, 863602, tzinfo=datetime.timezone.utc)}"
      ]
     },
     "execution_count": 9,
     "metadata": {},
     "output_type": "execute_result"
    }
   ],
   "source": [
    "post.__dict__"
   ]
  },
  {
   "cell_type": "code",
   "execution_count": 10,
   "id": "d88fb8807a9a2e85",
   "metadata": {
    "ExecuteTime": {
     "end_time": "2023-10-25T06:22:54.587885Z",
     "start_time": "2023-10-25T06:22:54.579687Z"
    },
    "collapsed": false,
    "jupyter": {
     "outputs_hidden": false
    }
   },
   "outputs": [],
   "source": [
    "qs = Post.objects.all().filter(message__startswith=\"f\")"
   ]
  },
  {
   "cell_type": "code",
   "execution_count": 11,
   "id": "ca3c849a94a58add",
   "metadata": {
    "ExecuteTime": {
     "end_time": "2023-10-25T06:22:55.091408Z",
     "start_time": "2023-10-25T06:22:55.083597Z"
    },
    "collapsed": false,
    "jupyter": {
     "outputs_hidden": false
    }
   },
   "outputs": [
    {
     "name": "stdout",
     "output_type": "stream",
     "text": [
      "SELECT \"instagram_post\".\"id\", \"instagram_post\".\"author_id\", \"instagram_post\".\"message\", \"instagram_post\".\"photo\", \"instagram_post\".\"is_public\", \"instagram_post\".\"create_at\", \"instagram_post\".\"update_at\" FROM \"instagram_post\" WHERE \"instagram_post\".\"message\" LIKE f% ESCAPE '\\' ORDER BY \"instagram_post\".\"id\" DESC\n"
     ]
    }
   ],
   "source": [
    "print(qs.query)"
   ]
  },
  {
   "cell_type": "code",
   "execution_count": 12,
   "id": "1344018a654505f",
   "metadata": {
    "ExecuteTime": {
     "end_time": "2023-10-25T06:22:55.523213Z",
     "start_time": "2023-10-25T06:22:55.516265Z"
    },
    "collapsed": false,
    "jupyter": {
     "outputs_hidden": false
    }
   },
   "outputs": [
    {
     "data": {
      "text/plain": [
       "<Post: four>"
      ]
     },
     "execution_count": 12,
     "metadata": {},
     "output_type": "execute_result"
    }
   ],
   "source": [
    "qs.get(id__gte=1)"
   ]
  },
  {
   "cell_type": "code",
   "execution_count": 13,
   "id": "61e5dbe3c11a54f1",
   "metadata": {
    "ExecuteTime": {
     "end_time": "2023-10-25T06:22:56.076999Z",
     "start_time": "2023-10-25T06:22:56.070051Z"
    },
    "collapsed": false,
    "jupyter": {
     "outputs_hidden": false
    }
   },
   "outputs": [
    {
     "data": {
      "text/plain": [
       "<Post: four>"
      ]
     },
     "execution_count": 13,
     "metadata": {},
     "output_type": "execute_result"
    }
   ],
   "source": [
    "qs.first()"
   ]
  },
  {
   "cell_type": "code",
   "execution_count": 14,
   "id": "9b6bce85d9fe7d7a",
   "metadata": {
    "ExecuteTime": {
     "end_time": "2023-10-25T06:22:56.913069Z",
     "start_time": "2023-10-25T06:22:56.909023Z"
    },
    "collapsed": false,
    "jupyter": {
     "outputs_hidden": false
    }
   },
   "outputs": [
    {
     "data": {
      "text/plain": [
       "<Post: four>"
      ]
     },
     "execution_count": 14,
     "metadata": {},
     "output_type": "execute_result"
    }
   ],
   "source": [
    "qs.last()"
   ]
  },
  {
   "cell_type": "markdown",
   "id": "bf51e8b8f377145b",
   "metadata": {
    "collapsed": false,
    "jupyter": {
     "outputs_hidden": false
    }
   },
   "source": [
    "queryset filter&exclude&\n",
    "\n",
    "filter - and\n",
    "exclude - not\n",
    "or - django.db.models.Q\n"
   ]
  },
  {
   "cell_type": "code",
   "execution_count": 15,
   "id": "c14a4f6f85b73f18",
   "metadata": {
    "ExecuteTime": {
     "end_time": "2023-10-25T06:22:59.805880Z",
     "start_time": "2023-10-25T06:22:59.797932Z"
    },
    "collapsed": false,
    "jupyter": {
     "outputs_hidden": false
    }
   },
   "outputs": [],
   "source": [
    "from django.db.models import Q"
   ]
  },
  {
   "cell_type": "code",
   "execution_count": 16,
   "id": "2a02b8808aaad999",
   "metadata": {
    "ExecuteTime": {
     "end_time": "2023-10-25T06:23:00.876927Z",
     "start_time": "2023-10-25T06:23:00.869948Z"
    },
    "collapsed": false,
    "jupyter": {
     "outputs_hidden": false
    }
   },
   "outputs": [],
   "source": [
    "qs = Post.objects.all()"
   ]
  },
  {
   "cell_type": "code",
   "execution_count": 17,
   "id": "d83a3ee2a8185e9f",
   "metadata": {
    "ExecuteTime": {
     "end_time": "2023-10-25T06:23:01.386209Z",
     "start_time": "2023-10-25T06:23:01.379575Z"
    },
    "collapsed": false,
    "jupyter": {
     "outputs_hidden": false
    }
   },
   "outputs": [],
   "source": [
    "qs = qs.filter(Q(id__gte=2) | Q(message=\"four\"))"
   ]
  },
  {
   "cell_type": "code",
   "execution_count": 18,
   "id": "d3ddf6ecd149108a",
   "metadata": {
    "ExecuteTime": {
     "end_time": "2023-10-25T06:23:02.205602Z",
     "start_time": "2023-10-25T06:23:02.198482Z"
    },
    "collapsed": false,
    "jupyter": {
     "outputs_hidden": false
    }
   },
   "outputs": [
    {
     "name": "stdout",
     "output_type": "stream",
     "text": [
      "<QuerySet [<Post: four>, <Post: three>, <Post: two>]>\n"
     ]
    }
   ],
   "source": [
    "print(qs)"
   ]
  },
  {
   "cell_type": "code",
   "execution_count": 19,
   "id": "a6cc5ed90234b35b",
   "metadata": {
    "ExecuteTime": {
     "end_time": "2023-10-25T06:23:03.977917Z",
     "start_time": "2023-10-25T06:23:03.968136Z"
    },
    "collapsed": false,
    "jupyter": {
     "outputs_hidden": false
    }
   },
   "outputs": [
    {
     "data": {
      "text/plain": [
       "<QuerySet [<Comment: Comment object (1)>, <Comment: Comment object (2)>]>"
      ]
     },
     "execution_count": 19,
     "metadata": {},
     "output_type": "execute_result"
    }
   ],
   "source": [
    "from instagram.models import Post, Comment\n",
    "Comment.objects.all()"
   ]
  },
  {
   "cell_type": "code",
   "execution_count": 20,
   "id": "a68f75772795526",
   "metadata": {
    "ExecuteTime": {
     "end_time": "2023-10-25T06:23:25.639724Z",
     "start_time": "2023-10-25T06:23:25.630954Z"
    },
    "collapsed": false,
    "jupyter": {
     "outputs_hidden": false
    }
   },
   "outputs": [
    {
     "data": {
      "text/plain": [
       "<Comment: Comment object (1)>"
      ]
     },
     "execution_count": 20,
     "metadata": {},
     "output_type": "execute_result"
    }
   ],
   "source": [
    "Comment.objects.first()"
   ]
  },
  {
   "cell_type": "code",
   "execution_count": 21,
   "id": "538d6ad2055d79d",
   "metadata": {
    "ExecuteTime": {
     "end_time": "2023-10-25T06:23:38.048772Z",
     "start_time": "2023-10-25T06:23:38.041434Z"
    },
    "collapsed": false,
    "jupyter": {
     "outputs_hidden": false
    }
   },
   "outputs": [
    {
     "name": "stdout",
     "output_type": "stream",
     "text": [
      "Comment object (2)\n"
     ]
    }
   ],
   "source": [
    "print(Comment.objects.last())"
   ]
  },
  {
   "cell_type": "code",
   "execution_count": 26,
   "id": "26b302f5da32b773",
   "metadata": {
    "ExecuteTime": {
     "end_time": "2023-10-25T06:24:45.872524Z",
     "start_time": "2023-10-25T06:24:45.870060Z"
    },
    "collapsed": false,
    "jupyter": {
     "outputs_hidden": false
    }
   },
   "outputs": [],
   "source": [
    "comment = Comment.objects.first()"
   ]
  },
  {
   "cell_type": "code",
   "execution_count": 27,
   "id": "bf06541aede49fc",
   "metadata": {
    "ExecuteTime": {
     "end_time": "2023-10-25T06:25:07.461674Z",
     "start_time": "2023-10-25T06:25:07.451882Z"
    },
    "collapsed": false,
    "jupyter": {
     "outputs_hidden": false
    }
   },
   "outputs": [
    {
     "data": {
      "text/plain": [
       "<Post: four>"
      ]
     },
     "execution_count": 27,
     "metadata": {},
     "output_type": "execute_result"
    }
   ],
   "source": [
    "Post.objects.get(pk=comment.post_id)"
   ]
  },
  {
   "cell_type": "code",
   "execution_count": null,
   "id": "bd16ba26cc51f3e6",
   "metadata": {
    "collapsed": false,
    "jupyter": {
     "outputs_hidden": false
    }
   },
   "outputs": [],
   "source": [
    "post = Post.objects.first()"
   ]
  },
  {
   "cell_type": "code",
   "execution_count": 34,
   "id": "cf66eb97dbce0a5",
   "metadata": {
    "ExecuteTime": {
     "end_time": "2023-10-25T06:26:19.853151Z",
     "start_time": "2023-10-25T06:26:19.845967Z"
    },
    "collapsed": false,
    "jupyter": {
     "outputs_hidden": false
    }
   },
   "outputs": [
    {
     "data": {
      "text/plain": [
       "<QuerySet [<Comment: Comment object (1)>, <Comment: Comment object (2)>]>"
      ]
     },
     "execution_count": 34,
     "metadata": {},
     "output_type": "execute_result"
    }
   ],
   "source": [
    "#Comment.objects.filter(post_id=4)\n",
    "# Comment.objects.filter(post__id=4)\n",
    "# Comment.objects.filter(post=post)\n",
    "post.comment_set.all()\n"
   ]
  },
  {
   "cell_type": "code",
   "execution_count": 3,
   "id": "1080c9bf6a91f88f",
   "metadata": {
    "ExecuteTime": {
     "end_time": "2023-10-25T08:48:56.965214600Z",
     "start_time": "2023-10-25T08:48:56.916428900Z"
    },
    "collapsed": false,
    "jupyter": {
     "outputs_hidden": false
    }
   },
   "outputs": [],
   "source": [
    "from accounts.models import Profile"
   ]
  },
  {
   "cell_type": "code",
   "execution_count": 4,
   "id": "ad975400119c6ed2",
   "metadata": {
    "ExecuteTime": {
     "end_time": "2023-10-25T08:49:08.486149Z",
     "start_time": "2023-10-25T08:49:08.377494400Z"
    },
    "collapsed": false,
    "jupyter": {
     "outputs_hidden": false
    }
   },
   "outputs": [
    {
     "data": {
      "text/plain": [
       "<User: methodfunc>"
      ]
     },
     "execution_count": 4,
     "metadata": {},
     "output_type": "execute_result"
    }
   ],
   "source": [
    "profile = Profile.objects.first()\n",
    "profile.user"
   ]
  },
  {
   "cell_type": "code",
   "execution_count": 5,
   "id": "c9de9e625bdcb463",
   "metadata": {
    "ExecuteTime": {
     "end_time": "2023-10-30T02:01:30.094184Z",
     "start_time": "2023-10-30T02:01:30.031545Z"
    },
    "collapsed": false,
    "jupyter": {
     "outputs_hidden": false
    }
   },
   "outputs": [],
   "source": [
    "from django.contrib.auth import get_user_model  # 추천 사용 방법"
   ]
  },
  {
   "cell_type": "code",
   "execution_count": 6,
   "id": "b45f6761b8f8d978",
   "metadata": {
    "ExecuteTime": {
     "end_time": "2023-10-30T02:01:30.420556Z",
     "start_time": "2023-10-30T02:01:30.356759Z"
    },
    "collapsed": false,
    "jupyter": {
     "outputs_hidden": false
    }
   },
   "outputs": [],
   "source": [
    "User = get_user_model()\n",
    "user = User.objects.first()"
   ]
  },
  {
   "cell_type": "code",
   "execution_count": 8,
   "id": "f742e1a78967be1b",
   "metadata": {
    "ExecuteTime": {
     "end_time": "2023-10-30T02:01:41.519197Z",
     "start_time": "2023-10-30T02:01:41.502597Z"
    },
    "collapsed": false,
    "jupyter": {
     "outputs_hidden": false
    }
   },
   "outputs": [
    {
     "data": {
      "text/plain": [
       "<User: methodfunc>"
      ]
     },
     "execution_count": 8,
     "metadata": {},
     "output_type": "execute_result"
    }
   ],
   "source": [
    "user"
   ]
  },
  {
   "cell_type": "code",
   "execution_count": 3,
   "id": "1501a70e61b683c4",
   "metadata": {
    "ExecuteTime": {
     "end_time": "2023-10-25T23:06:52.542803Z",
     "start_time": "2023-10-25T23:06:52.538061Z"
    },
    "collapsed": false,
    "jupyter": {
     "outputs_hidden": false
    }
   },
   "outputs": [],
   "source": [
    "from instagram.models import Tag, Post"
   ]
  },
  {
   "cell_type": "code",
   "execution_count": 4,
   "id": "9f64ba36b2b528bf",
   "metadata": {
    "ExecuteTime": {
     "end_time": "2023-10-25T23:06:52.875664Z",
     "start_time": "2023-10-25T23:06:52.855397Z"
    },
    "collapsed": false,
    "jupyter": {
     "outputs_hidden": false
    }
   },
   "outputs": [
    {
     "data": {
      "text/plain": [
       "<Post: four>"
      ]
     },
     "execution_count": 4,
     "metadata": {},
     "output_type": "execute_result"
    }
   ],
   "source": [
    "post = Post.objects.first()\n",
    "post"
   ]
  },
  {
   "cell_type": "code",
   "execution_count": 7,
   "id": "d5ea67f1c3d6ccae",
   "metadata": {
    "ExecuteTime": {
     "end_time": "2023-10-25T23:07:23.403068Z",
     "start_time": "2023-10-25T23:07:23.397192Z"
    },
    "collapsed": false,
    "jupyter": {
     "outputs_hidden": false
    }
   },
   "outputs": [],
   "source": [
    "tag = Tag.objects.first()"
   ]
  },
  {
   "cell_type": "code",
   "execution_count": 8,
   "id": "b884dce19e3adb0f",
   "metadata": {
    "ExecuteTime": {
     "end_time": "2023-10-25T23:07:23.611883Z",
     "start_time": "2023-10-25T23:07:23.606090Z"
    },
    "collapsed": false,
    "jupyter": {
     "outputs_hidden": false
    }
   },
   "outputs": [
    {
     "data": {
      "text/plain": [
       "<Tag: Python>"
      ]
     },
     "execution_count": 8,
     "metadata": {},
     "output_type": "execute_result"
    }
   ],
   "source": [
    "tag"
   ]
  },
  {
   "cell_type": "code",
   "execution_count": 9,
   "id": "d099b418da71d2a",
   "metadata": {
    "ExecuteTime": {
     "end_time": "2023-10-25T23:07:23.793847Z",
     "start_time": "2023-10-25T23:07:23.789765Z"
    },
    "collapsed": false,
    "jupyter": {
     "outputs_hidden": false
    }
   },
   "outputs": [
    {
     "data": {
      "text/plain": [
       "<QuerySet [<Post: four>]>"
      ]
     },
     "execution_count": 9,
     "metadata": {},
     "output_type": "execute_result"
    }
   ],
   "source": [
    "tag.post_set.all()"
   ]
  },
  {
   "cell_type": "code",
   "execution_count": 10,
   "id": "ce0805d419c58412",
   "metadata": {
    "ExecuteTime": {
     "end_time": "2023-10-25T23:07:25.264682Z",
     "start_time": "2023-10-25T23:07:25.242648Z"
    },
    "collapsed": false,
    "jupyter": {
     "outputs_hidden": false
    }
   },
   "outputs": [
    {
     "data": {
      "text/plain": [
       "<Tag: BlueArchive>"
      ]
     },
     "execution_count": 10,
     "metadata": {},
     "output_type": "execute_result"
    }
   ],
   "source": [
    "Tag.objects.create(name=\"Django\")\n",
    "Tag.objects.create(name=\"BlueArchive\")"
   ]
  },
  {
   "cell_type": "code",
   "execution_count": 11,
   "id": "fab6f37abe17d06a",
   "metadata": {
    "ExecuteTime": {
     "end_time": "2023-10-25T23:07:25.725843Z",
     "start_time": "2023-10-25T23:07:25.721303Z"
    },
    "collapsed": false,
    "jupyter": {
     "outputs_hidden": false
    }
   },
   "outputs": [
    {
     "data": {
      "text/plain": [
       "<QuerySet [<Tag: Python>, <Tag: Django>, <Tag: BlueArchive>]>"
      ]
     },
     "execution_count": 11,
     "metadata": {},
     "output_type": "execute_result"
    }
   ],
   "source": [
    "Tag.objects.all()"
   ]
  },
  {
   "cell_type": "code",
   "execution_count": 12,
   "id": "1ef96686119edef2",
   "metadata": {
    "ExecuteTime": {
     "end_time": "2023-10-25T23:07:26.192845Z",
     "start_time": "2023-10-25T23:07:26.187600Z"
    },
    "collapsed": false,
    "jupyter": {
     "outputs_hidden": false
    }
   },
   "outputs": [],
   "source": [
    "tag = Tag.objects.get(name=\"BlueArchive\")"
   ]
  },
  {
   "cell_type": "code",
   "execution_count": 13,
   "id": "33ef49655953eb62",
   "metadata": {
    "ExecuteTime": {
     "end_time": "2023-10-25T23:07:26.562940Z",
     "start_time": "2023-10-25T23:07:26.557137Z"
    },
    "collapsed": false,
    "jupyter": {
     "outputs_hidden": false
    }
   },
   "outputs": [],
   "source": [
    "post.tag_set.add(tag)"
   ]
  },
  {
   "cell_type": "code",
   "execution_count": 14,
   "id": "16a76e5f13ae3484",
   "metadata": {
    "ExecuteTime": {
     "end_time": "2023-10-25T23:07:26.859429Z",
     "start_time": "2023-10-25T23:07:26.853949Z"
    },
    "collapsed": false,
    "jupyter": {
     "outputs_hidden": false
    }
   },
   "outputs": [
    {
     "data": {
      "text/plain": [
       "<QuerySet [<Tag: Python>, <Tag: BlueArchive>]>"
      ]
     },
     "execution_count": 14,
     "metadata": {},
     "output_type": "execute_result"
    }
   ],
   "source": [
    "post.tag_set.all()"
   ]
  },
  {
   "cell_type": "code",
   "execution_count": 15,
   "id": "2d3c9128c946f589",
   "metadata": {
    "ExecuteTime": {
     "end_time": "2023-10-25T23:07:27.301365Z",
     "start_time": "2023-10-25T23:07:27.296700Z"
    },
    "collapsed": false,
    "jupyter": {
     "outputs_hidden": false
    }
   },
   "outputs": [],
   "source": [
    "tag_qs = Tag.objects.all()"
   ]
  },
  {
   "cell_type": "code",
   "execution_count": 16,
   "id": "6e4db0cc2843dfeb",
   "metadata": {
    "ExecuteTime": {
     "end_time": "2023-10-25T23:07:27.679297Z",
     "start_time": "2023-10-25T23:07:27.674580Z"
    },
    "collapsed": false,
    "jupyter": {
     "outputs_hidden": false
    }
   },
   "outputs": [],
   "source": [
    "post.tag_set.add(*tag_qs)"
   ]
  },
  {
   "cell_type": "code",
   "execution_count": 17,
   "id": "860a3dbb631ce08d",
   "metadata": {
    "ExecuteTime": {
     "end_time": "2023-10-25T23:07:27.958867Z",
     "start_time": "2023-10-25T23:07:27.954159Z"
    },
    "collapsed": false,
    "jupyter": {
     "outputs_hidden": false
    }
   },
   "outputs": [
    {
     "data": {
      "text/plain": [
       "<QuerySet [<Post: four>]>"
      ]
     },
     "execution_count": 17,
     "metadata": {},
     "output_type": "execute_result"
    }
   ],
   "source": [
    "tag.post_set.all()"
   ]
  },
  {
   "cell_type": "code",
   "execution_count": 18,
   "id": "fe97bdd9914052a7",
   "metadata": {
    "ExecuteTime": {
     "end_time": "2023-10-26T00:44:56.407536Z",
     "start_time": "2023-10-26T00:44:56.386404Z"
    },
    "collapsed": false,
    "jupyter": {
     "outputs_hidden": false
    }
   },
   "outputs": [],
   "source": [
    "i = 1"
   ]
  },
  {
   "cell_type": "code",
   "execution_count": 19,
   "id": "238372e9276b5e0b",
   "metadata": {
    "ExecuteTime": {
     "end_time": "2023-10-26T00:45:00.172930Z",
     "start_time": "2023-10-26T00:45:00.146743Z"
    },
    "collapsed": false,
    "jupyter": {
     "outputs_hidden": false
    }
   },
   "outputs": [
    {
     "data": {
      "text/plain": [
       "'001'"
      ]
     },
     "execution_count": 19,
     "metadata": {},
     "output_type": "execute_result"
    }
   ],
   "source": [
    "f\"{i:03d}\""
   ]
  },
  {
   "cell_type": "code",
   "execution_count": 22,
   "id": "47b0163b71e98c67",
   "metadata": {
    "ExecuteTime": {
     "end_time": "2023-10-26T00:45:36.957853Z",
     "start_time": "2023-10-26T00:45:36.941624Z"
    },
    "collapsed": false,
    "jupyter": {
     "outputs_hidden": false
    }
   },
   "outputs": [
    {
     "data": {
      "text/plain": [
       "True"
      ]
     },
     "execution_count": 22,
     "metadata": {},
     "output_type": "execute_result"
    }
   ],
   "source": [
    "os.path.exists(\"./instagram\")"
   ]
  },
  {
   "cell_type": "code",
   "execution_count": 4,
   "id": "a848f104e1cc5e16",
   "metadata": {
    "ExecuteTime": {
     "end_time": "2023-10-26T10:00:52.687113Z",
     "start_time": "2023-10-26T10:00:52.657326700Z"
    },
    "collapsed": false,
    "jupyter": {
     "outputs_hidden": false
    }
   },
   "outputs": [],
   "source": [
    "post = Post.objects.all()"
   ]
  },
  {
   "cell_type": "code",
   "execution_count": 8,
   "id": "53d9c0c6431d629c",
   "metadata": {
    "ExecuteTime": {
     "end_time": "2023-10-26T10:01:56.365331600Z",
     "start_time": "2023-10-26T10:01:56.350093Z"
    },
    "collapsed": false,
    "jupyter": {
     "outputs_hidden": false
    }
   },
   "outputs": [
    {
     "ename": "TypeError",
     "evalue": "QuerySet.create() takes 1 positional argument but 2 were given",
     "output_type": "error",
     "traceback": [
      "\u001b[1;31m---------------------------------------------------------------------------\u001b[0m",
      "\u001b[1;31mTypeError\u001b[0m                                 Traceback (most recent call last)",
      "Cell \u001b[1;32mIn[8], line 1\u001b[0m\n\u001b[1;32m----> 1\u001b[0m \u001b[43mpost\u001b[49m\u001b[38;5;241;43m.\u001b[39;49m\u001b[43mcreate\u001b[49m\u001b[43m(\u001b[49m\u001b[38;5;124;43m\"\u001b[39;49m\u001b[38;5;124;43m다섯번째 글\u001b[39;49m\u001b[38;5;124;43m\"\u001b[39;49m\u001b[43m)\u001b[49m\n",
      "\u001b[1;31mTypeError\u001b[0m: QuerySet.create() takes 1 positional argument but 2 were given"
     ]
    }
   ],
   "source": [
    "post.create({\"message\":  \"다섯번째 글\"})"
   ]
  },
  {
   "cell_type": "code",
   "execution_count": 9,
   "id": "9bde0ed6e73b74af",
   "metadata": {
    "ExecuteTime": {
     "end_time": "2023-10-30T02:03:08.655321Z",
     "start_time": "2023-10-30T02:01:46.908093Z"
    },
    "collapsed": false,
    "jupyter": {
     "outputs_hidden": false
    }
   },
   "outputs": [],
   "source": [
    "for i in range(20, 101):\n",
    "    p = Post(message=f\"{i}번째 글\", author=User.objects.first())\n",
    "    p.save()\n",
    "    time.sleep(1)"
   ]
  },
  {
   "cell_type": "code",
   "execution_count": 12,
   "id": "6f981893ac64f1ba",
   "metadata": {
    "ExecuteTime": {
     "end_time": "2023-10-26T10:04:29.666739300Z",
     "start_time": "2023-10-26T10:04:29.637152700Z"
    },
    "collapsed": false,
    "jupyter": {
     "outputs_hidden": false
    }
   },
   "outputs": [],
   "source": [
    "User = get_user_model()"
   ]
  },
  {
   "cell_type": "code",
   "execution_count": 16,
   "id": "6b040b5451136043",
   "metadata": {
    "ExecuteTime": {
     "end_time": "2023-10-26T10:04:47.317340600Z",
     "start_time": "2023-10-26T10:04:47.300672300Z"
    },
    "collapsed": false,
    "jupyter": {
     "outputs_hidden": false
    }
   },
   "outputs": [
    {
     "data": {
      "text/plain": [
       "<User: methodfunc>"
      ]
     },
     "execution_count": 16,
     "metadata": {},
     "output_type": "execute_result"
    }
   ],
   "source": [
    "User.objects.first()"
   ]
  },
  {
   "cell_type": "code",
   "execution_count": null,
   "id": "8c07ec8de7516f74",
   "metadata": {
    "collapsed": false,
    "jupyter": {
     "outputs_hidden": false
    }
   },
   "outputs": [],
   "source": []
  }
 ],
 "metadata": {
  "kernelspec": {
   "display_name": "Python 3 (ipykernel)",
   "language": "python",
   "name": "python3"
  },
  "language_info": {
   "codemirror_mode": {
    "name": "ipython",
    "version": 2
   },
   "file_extension": ".py",
   "mimetype": "text/x-python",
   "name": "python",
   "nbconvert_exporter": "python",
   "pygments_lexer": "ipython2",
   "version": "2.7.6"
  }
 },
 "nbformat": 4,
 "nbformat_minor": 5
}
