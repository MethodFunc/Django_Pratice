{
 "cells": [
  {
   "cell_type": "code",
   "execution_count": 1,
   "id": "e80c0ec0bcb22a56",
   "metadata": {
    "collapsed": true,
    "ExecuteTime": {
     "end_time": "2023-10-25T06:22:49.207917Z",
     "start_time": "2023-10-25T06:22:49.196438Z"
    }
   },
   "outputs": [],
   "source": [
    "import os\n",
    "import django"
   ]
  },
  {
   "cell_type": "code",
   "execution_count": 2,
   "outputs": [],
   "source": [
    "os.environ[\"DJANGO_SETTINGS_MODULE\"] = 'learn_1.settings'\n",
    "os.environ[\"DJANGO_ALLOW_ASYNC_UNSAFE\"] = 'true'\n",
    "django.setup()"
   ],
   "metadata": {
    "collapsed": false,
    "ExecuteTime": {
     "end_time": "2023-10-25T06:22:49.605358Z",
     "start_time": "2023-10-25T06:22:49.426488Z"
    }
   },
   "id": "initial_id"
  },
  {
   "cell_type": "code",
   "execution_count": 3,
   "outputs": [],
   "source": [
    "from instagram.models import Post"
   ],
   "metadata": {
    "collapsed": false,
    "ExecuteTime": {
     "end_time": "2023-10-25T06:22:49.791021Z",
     "start_time": "2023-10-25T06:22:49.783607Z"
    }
   },
   "id": "edf67fde09e56ea"
  },
  {
   "cell_type": "code",
   "execution_count": 4,
   "outputs": [
    {
     "name": "stdout",
     "output_type": "stream",
     "text": [
      "SELECT \"instagram_post\".\"id\", \"instagram_post\".\"author_id\", \"instagram_post\".\"message\", \"instagram_post\".\"photo\", \"instagram_post\".\"is_public\", \"instagram_post\".\"create_at\", \"instagram_post\".\"update_at\" FROM \"instagram_post\" ORDER BY \"instagram_post\".\"id\" DESC\n"
     ]
    }
   ],
   "source": [
    "qs = Post.objects.all()\n",
    "print(qs.query)"
   ],
   "metadata": {
    "collapsed": false,
    "ExecuteTime": {
     "end_time": "2023-10-25T06:22:50.187338Z",
     "start_time": "2023-10-25T06:22:50.179851Z"
    }
   },
   "id": "e974b2ee1bcbd21"
  },
  {
   "cell_type": "code",
   "execution_count": 5,
   "outputs": [
    {
     "data": {
      "text/plain": "<QuerySet [<Post: four>, <Post: three>, <Post: two>, <Post: one>]>"
     },
     "execution_count": 5,
     "metadata": {},
     "output_type": "execute_result"
    }
   ],
   "source": [
    "qs"
   ],
   "metadata": {
    "collapsed": false,
    "ExecuteTime": {
     "end_time": "2023-10-25T06:22:50.603181Z",
     "start_time": "2023-10-25T06:22:50.578665Z"
    }
   },
   "id": "1ff579a216320d73"
  },
  {
   "cell_type": "code",
   "execution_count": 6,
   "outputs": [],
   "source": [
    "qs = Post.objects.all().order_by('-id')"
   ],
   "metadata": {
    "collapsed": false,
    "ExecuteTime": {
     "end_time": "2023-10-25T06:22:50.939599Z",
     "start_time": "2023-10-25T06:22:50.926332Z"
    }
   },
   "id": "3c47cdf213620ddb"
  },
  {
   "cell_type": "code",
   "execution_count": 7,
   "outputs": [
    {
     "name": "stdout",
     "output_type": "stream",
     "text": [
      "SELECT \"instagram_post\".\"id\", \"instagram_post\".\"author_id\", \"instagram_post\".\"message\", \"instagram_post\".\"photo\", \"instagram_post\".\"is_public\", \"instagram_post\".\"create_at\", \"instagram_post\".\"update_at\" FROM \"instagram_post\" ORDER BY \"instagram_post\".\"id\" DESC\n"
     ]
    }
   ],
   "source": [
    "print(qs.query)"
   ],
   "metadata": {
    "collapsed": false,
    "ExecuteTime": {
     "end_time": "2023-10-25T06:22:51.305279Z",
     "start_time": "2023-10-25T06:22:51.278846Z"
    }
   },
   "id": "f8d9369aae72160"
  },
  {
   "cell_type": "code",
   "execution_count": 8,
   "outputs": [
    {
     "name": "stdout",
     "output_type": "stream",
     "text": [
      "id:4 create_at: 2023-10-25 00:42:54.794788+00:00\n",
      "id:3 create_at: 2023-10-24 23:19:06.452347+00:00\n",
      "id:2 create_at: 2023-10-24 23:19:03.098189+00:00\n",
      "id:1 create_at: 2023-10-24 23:19:00.863576+00:00\n"
     ]
    }
   ],
   "source": [
    "for post in qs:\n",
    "    # print(post.message, post.create_at)\n",
    "    print(\"id:{id} create_at: {create_at}\".format(**post.__dict__))"
   ],
   "metadata": {
    "collapsed": false,
    "ExecuteTime": {
     "end_time": "2023-10-25T06:22:51.639588Z",
     "start_time": "2023-10-25T06:22:51.627239Z"
    }
   },
   "id": "4b3791237cb134d4"
  },
  {
   "cell_type": "code",
   "execution_count": 9,
   "outputs": [
    {
     "data": {
      "text/plain": "{'_state': <django.db.models.base.ModelState at 0x1086d53a0>,\n 'id': 1,\n 'author_id': 1,\n 'message': 'one',\n 'photo': '',\n 'is_public': False,\n 'create_at': datetime.datetime(2023, 10, 24, 23, 19, 0, 863576, tzinfo=datetime.timezone.utc),\n 'update_at': datetime.datetime(2023, 10, 24, 23, 19, 0, 863602, tzinfo=datetime.timezone.utc)}"
     },
     "execution_count": 9,
     "metadata": {},
     "output_type": "execute_result"
    }
   ],
   "source": [
    "post.__dict__"
   ],
   "metadata": {
    "collapsed": false,
    "ExecuteTime": {
     "end_time": "2023-10-25T06:22:52.169203Z",
     "start_time": "2023-10-25T06:22:52.143936Z"
    }
   },
   "id": "e703398445e5efc9"
  },
  {
   "cell_type": "code",
   "execution_count": 10,
   "outputs": [],
   "source": [
    "qs = Post.objects.all().filter(message__startswith=\"f\")"
   ],
   "metadata": {
    "collapsed": false,
    "ExecuteTime": {
     "end_time": "2023-10-25T06:22:54.587885Z",
     "start_time": "2023-10-25T06:22:54.579687Z"
    }
   },
   "id": "d88fb8807a9a2e85"
  },
  {
   "cell_type": "code",
   "execution_count": 11,
   "outputs": [
    {
     "name": "stdout",
     "output_type": "stream",
     "text": [
      "SELECT \"instagram_post\".\"id\", \"instagram_post\".\"author_id\", \"instagram_post\".\"message\", \"instagram_post\".\"photo\", \"instagram_post\".\"is_public\", \"instagram_post\".\"create_at\", \"instagram_post\".\"update_at\" FROM \"instagram_post\" WHERE \"instagram_post\".\"message\" LIKE f% ESCAPE '\\' ORDER BY \"instagram_post\".\"id\" DESC\n"
     ]
    }
   ],
   "source": [
    "print(qs.query)"
   ],
   "metadata": {
    "collapsed": false,
    "ExecuteTime": {
     "end_time": "2023-10-25T06:22:55.091408Z",
     "start_time": "2023-10-25T06:22:55.083597Z"
    }
   },
   "id": "ca3c849a94a58add"
  },
  {
   "cell_type": "code",
   "execution_count": 12,
   "outputs": [
    {
     "data": {
      "text/plain": "<Post: four>"
     },
     "execution_count": 12,
     "metadata": {},
     "output_type": "execute_result"
    }
   ],
   "source": [
    "qs.get(id__gte=1)"
   ],
   "metadata": {
    "collapsed": false,
    "ExecuteTime": {
     "end_time": "2023-10-25T06:22:55.523213Z",
     "start_time": "2023-10-25T06:22:55.516265Z"
    }
   },
   "id": "1344018a654505f"
  },
  {
   "cell_type": "code",
   "execution_count": 13,
   "outputs": [
    {
     "data": {
      "text/plain": "<Post: four>"
     },
     "execution_count": 13,
     "metadata": {},
     "output_type": "execute_result"
    }
   ],
   "source": [
    "qs.first()"
   ],
   "metadata": {
    "collapsed": false,
    "ExecuteTime": {
     "end_time": "2023-10-25T06:22:56.076999Z",
     "start_time": "2023-10-25T06:22:56.070051Z"
    }
   },
   "id": "61e5dbe3c11a54f1"
  },
  {
   "cell_type": "code",
   "execution_count": 14,
   "outputs": [
    {
     "data": {
      "text/plain": "<Post: four>"
     },
     "execution_count": 14,
     "metadata": {},
     "output_type": "execute_result"
    }
   ],
   "source": [
    "qs.last()"
   ],
   "metadata": {
    "collapsed": false,
    "ExecuteTime": {
     "end_time": "2023-10-25T06:22:56.913069Z",
     "start_time": "2023-10-25T06:22:56.909023Z"
    }
   },
   "id": "9b6bce85d9fe7d7a"
  },
  {
   "cell_type": "markdown",
   "source": [
    "queryset filter&exclude&\n",
    "\n",
    "filter - and\n",
    "exclude - not\n",
    "or - django.db.models.Q\n"
   ],
   "metadata": {
    "collapsed": false
   },
   "id": "bf51e8b8f377145b"
  },
  {
   "cell_type": "code",
   "execution_count": 15,
   "outputs": [],
   "source": [
    "from django.db.models import Q"
   ],
   "metadata": {
    "collapsed": false,
    "ExecuteTime": {
     "end_time": "2023-10-25T06:22:59.805880Z",
     "start_time": "2023-10-25T06:22:59.797932Z"
    }
   },
   "id": "c14a4f6f85b73f18"
  },
  {
   "cell_type": "code",
   "execution_count": 16,
   "outputs": [],
   "source": [
    "qs = Post.objects.all()"
   ],
   "metadata": {
    "collapsed": false,
    "ExecuteTime": {
     "end_time": "2023-10-25T06:23:00.876927Z",
     "start_time": "2023-10-25T06:23:00.869948Z"
    }
   },
   "id": "2a02b8808aaad999"
  },
  {
   "cell_type": "code",
   "execution_count": 17,
   "outputs": [],
   "source": [
    "qs = qs.filter(Q(id__gte=2) | Q(message=\"four\"))"
   ],
   "metadata": {
    "collapsed": false,
    "ExecuteTime": {
     "end_time": "2023-10-25T06:23:01.386209Z",
     "start_time": "2023-10-25T06:23:01.379575Z"
    }
   },
   "id": "d83a3ee2a8185e9f"
  },
  {
   "cell_type": "code",
   "execution_count": 18,
   "outputs": [
    {
     "name": "stdout",
     "output_type": "stream",
     "text": [
      "<QuerySet [<Post: four>, <Post: three>, <Post: two>]>\n"
     ]
    }
   ],
   "source": [
    "print(qs)"
   ],
   "metadata": {
    "collapsed": false,
    "ExecuteTime": {
     "end_time": "2023-10-25T06:23:02.205602Z",
     "start_time": "2023-10-25T06:23:02.198482Z"
    }
   },
   "id": "d3ddf6ecd149108a"
  },
  {
   "cell_type": "code",
   "execution_count": 19,
   "outputs": [
    {
     "data": {
      "text/plain": "<QuerySet [<Comment: Comment object (1)>, <Comment: Comment object (2)>]>"
     },
     "execution_count": 19,
     "metadata": {},
     "output_type": "execute_result"
    }
   ],
   "source": [
    "from instagram.models import Post, Comment\n",
    "Comment.objects.all()"
   ],
   "metadata": {
    "collapsed": false,
    "ExecuteTime": {
     "end_time": "2023-10-25T06:23:03.977917Z",
     "start_time": "2023-10-25T06:23:03.968136Z"
    }
   },
   "id": "a6cc5ed90234b35b"
  },
  {
   "cell_type": "code",
   "execution_count": 20,
   "outputs": [
    {
     "data": {
      "text/plain": "<Comment: Comment object (1)>"
     },
     "execution_count": 20,
     "metadata": {},
     "output_type": "execute_result"
    }
   ],
   "source": [
    "Comment.objects.first()"
   ],
   "metadata": {
    "collapsed": false,
    "ExecuteTime": {
     "end_time": "2023-10-25T06:23:25.639724Z",
     "start_time": "2023-10-25T06:23:25.630954Z"
    }
   },
   "id": "a68f75772795526"
  },
  {
   "cell_type": "code",
   "execution_count": 21,
   "outputs": [
    {
     "name": "stdout",
     "output_type": "stream",
     "text": [
      "Comment object (2)\n"
     ]
    }
   ],
   "source": [
    "print(Comment.objects.last())"
   ],
   "metadata": {
    "collapsed": false,
    "ExecuteTime": {
     "end_time": "2023-10-25T06:23:38.048772Z",
     "start_time": "2023-10-25T06:23:38.041434Z"
    }
   },
   "id": "538d6ad2055d79d"
  },
  {
   "cell_type": "code",
   "execution_count": 26,
   "outputs": [],
   "source": [
    "comment = Comment.objects.first()"
   ],
   "metadata": {
    "collapsed": false,
    "ExecuteTime": {
     "end_time": "2023-10-25T06:24:45.872524Z",
     "start_time": "2023-10-25T06:24:45.870060Z"
    }
   },
   "id": "26b302f5da32b773"
  },
  {
   "cell_type": "code",
   "execution_count": 27,
   "outputs": [
    {
     "data": {
      "text/plain": "<Post: four>"
     },
     "execution_count": 27,
     "metadata": {},
     "output_type": "execute_result"
    }
   ],
   "source": [
    "Post.objects.get(pk=comment.post_id)"
   ],
   "metadata": {
    "collapsed": false,
    "ExecuteTime": {
     "end_time": "2023-10-25T06:25:07.461674Z",
     "start_time": "2023-10-25T06:25:07.451882Z"
    }
   },
   "id": "bf06541aede49fc"
  },
  {
   "cell_type": "code",
   "execution_count": null,
   "outputs": [],
   "source": [
    "post = Post.objects.first()"
   ],
   "metadata": {
    "collapsed": false
   },
   "id": "bd16ba26cc51f3e6"
  },
  {
   "cell_type": "code",
   "execution_count": 34,
   "outputs": [
    {
     "data": {
      "text/plain": "<QuerySet [<Comment: Comment object (1)>, <Comment: Comment object (2)>]>"
     },
     "execution_count": 34,
     "metadata": {},
     "output_type": "execute_result"
    }
   ],
   "source": [
    "#Comment.objects.filter(post_id=4)\n",
    "# Comment.objects.filter(post__id=4)\n",
    "# Comment.objects.filter(post=post)\n",
    "post.comment_set.all()\n"
   ],
   "metadata": {
    "collapsed": false,
    "ExecuteTime": {
     "end_time": "2023-10-25T06:26:19.853151Z",
     "start_time": "2023-10-25T06:26:19.845967Z"
    }
   },
   "id": "cf66eb97dbce0a5"
  },
  {
   "cell_type": "code",
   "execution_count": null,
   "outputs": [],
   "source": [],
   "metadata": {
    "collapsed": false
   },
   "id": "1080c9bf6a91f88f"
  }
 ],
 "metadata": {
  "kernelspec": {
   "display_name": "Python 3",
   "language": "python",
   "name": "python3"
  },
  "language_info": {
   "codemirror_mode": {
    "name": "ipython",
    "version": 2
   },
   "file_extension": ".py",
   "mimetype": "text/x-python",
   "name": "python",
   "nbconvert_exporter": "python",
   "pygments_lexer": "ipython2",
   "version": "2.7.6"
  }
 },
 "nbformat": 4,
 "nbformat_minor": 5
}
